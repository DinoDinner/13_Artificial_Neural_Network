{
 "cells": [
  {
   "cell_type": "markdown",
   "id": "b30e2e8a",
   "metadata": {},
   "source": [
    "# Pytorc를 사용하여 소프트맥스 회귀 모델을 학습하고 예측하는 실습\n",
    "\n",
    "- Iris 데이터셋 사용하여 진행"
   ]
  },
  {
   "cell_type": "code",
   "execution_count": 1,
   "id": "6753df63",
   "metadata": {},
   "outputs": [],
   "source": [
    "import torch\n",
    "import torch.nn as nn\n",
    "import torch.optim as optim\n",
    "\n",
    "from torch.utils.data import DataLoader, TensorDataset\n",
    "from sklearn.datasets import load_iris\n",
    "from sklearn.model_selection import train_test_split"
   ]
  },
  {
   "cell_type": "markdown",
   "id": "dea5e36d",
   "metadata": {},
   "source": [
    "### 데이터 로드 "
   ]
  },
  {
   "cell_type": "code",
   "execution_count": 7,
   "id": "a9e67c73",
   "metadata": {},
   "outputs": [
    {
     "name": "stdout",
     "output_type": "stream",
     "text": [
      "tensor([2., 0., 2., 2., 1., 0., 2., 2., 0., 0., 2., 1., 1., 2., 2.])\n"
     ]
    }
   ],
   "source": [
    "iris = load_iris()\n",
    "# print(iris)\n",
    "\n",
    "x = iris.data\n",
    "y = iris.target\n",
    "# print(x,y)\n",
    "\n",
    "x_train, x_test , y_train, y_test = train_test_split(x,y, test_size=0.1, random_state=777)\n",
    "\n",
    "# convert data to Pytorch tensor \n",
    "x_train = torch.from_numpy(x_train).float()\n",
    "y_train = torch.from_numpy(y_train).float()\n",
    "x_test = torch.from_numpy(x_test).float()\n",
    "y_test = torch.from_numpy(y_test).float()\n",
    "\n",
    "print(y_test)"
   ]
  },
  {
   "cell_type": "markdown",
   "id": "85600812",
   "metadata": {},
   "source": [
    "### 데이터셋 데이터 로더 정의 "
   ]
  },
  {
   "cell_type": "code",
   "execution_count": null,
   "id": "6136cc12",
   "metadata": {},
   "outputs": [],
   "source": [
    "train_dataset = TensorDataset(x_train, y_train) \n",
    "# TensorDataset() -> 동일한 크기를 가진 텐서들을 첫번째 차원을 기준으로 결합해서 -> 데이터셋 생성\n",
    "train_loader = DataLoader(train_dataset, batch_size=10, shuffle=True)"
   ]
  }
 ],
 "metadata": {
  "kernelspec": {
   "display_name": "AI",
   "language": "python",
   "name": "ai"
  },
  "language_info": {
   "codemirror_mode": {
    "name": "ipython",
    "version": 3
   },
   "file_extension": ".py",
   "mimetype": "text/x-python",
   "name": "python",
   "nbconvert_exporter": "python",
   "pygments_lexer": "ipython3",
   "version": "3.8.12"
  }
 },
 "nbformat": 4,
 "nbformat_minor": 5
}
