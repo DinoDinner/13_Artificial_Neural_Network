{
 "cells": [
  {
   "cell_type": "code",
   "execution_count": 2,
   "metadata": {},
   "outputs": [],
   "source": [
    "import torch\n",
    "import torch.nn as nn"
   ]
  },
  {
   "cell_type": "code",
   "execution_count": null,
   "metadata": {},
   "outputs": [],
   "source": [
    "class CNN(nn.Module):\n",
    "    def __init__(self) :\n",
    "        super(CNN,self).__init__()\n",
    "        self.conv1 = nn.Conv2d(1,16,kernel_size=3,stride=1,padding=1)   # 합성곱 1층\n",
    "        self.relu = nn.ReLU()   # 활성 함수\n",
    "        self.pool = nn.MaxPool2d(kernel_size=2, stride=2)   # 풀링 레이어\n",
    "        self.conv2 = nn.Conv2d(16, 32, kernel_size=3, stride=1, padding=1)  # 합성곱 2층\n",
    "        self.fc = nn.Linear(32 * 7 * 7, 10) # 완전연결층 -> linear 사용\n",
    "        # self.conv2를 거친 특징값 행렬이 32채널 7X7 행렬로 나오는 예시\n",
    "        # 마지막 완전 연결층의 입력값이 32 * 7 * 7 로 계산됨\n",
    "        \n",
    "        \n",
    "    def forward(self,x) :\n",
    "        # 1층\n",
    "        x = self.conv1(x)\n",
    "        x = self.relu(x)\n",
    "        x = self.pool(x)\n",
    "        # 풀링 다음에는 활성함수를 다시 먹이지 않음\n",
    "        \n",
    "        # 2층\n",
    "        x = self.conv2(x)\n",
    "        x = self.relu(x)\n",
    "        x = self.pool(x)\n",
    "\n",
    "        # 출력층\n",
    "        x = self.fc(x)\n",
    "        return x\n",
    "        # 출력층이기 때문에 활성함수를 먹이지 않음\n",
    "        "
   ]
  }
 ],
 "metadata": {
  "kernelspec": {
   "display_name": "base",
   "language": "python",
   "name": "python3"
  },
  "language_info": {
   "codemirror_mode": {
    "name": "ipython",
    "version": 3
   },
   "file_extension": ".py",
   "mimetype": "text/x-python",
   "name": "python",
   "nbconvert_exporter": "python",
   "pygments_lexer": "ipython3",
   "version": "3.10.9"
  },
  "orig_nbformat": 4
 },
 "nbformat": 4,
 "nbformat_minor": 2
}
