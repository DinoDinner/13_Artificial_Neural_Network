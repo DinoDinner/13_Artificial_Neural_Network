{
 "cells": [
  {
   "cell_type": "code",
   "execution_count": 1,
   "metadata": {},
   "outputs": [],
   "source": [
    "# %pip install torchvision"
   ]
  },
  {
   "attachments": {},
   "cell_type": "markdown",
   "metadata": {},
   "source": [
    "공개된 데이터를 가지고 로지스틱 회귀 진행 실습"
   ]
  },
  {
   "cell_type": "code",
   "execution_count": 2,
   "metadata": {},
   "outputs": [
    {
     "data": {
      "text/plain": [
       "'\\n라벨정보\\n0 T-shirt/top (티셔츠)\\n1 Trouser (바지)\\n2 Pullover (스웨터)\\n3 Dress (드레스)\\n4 Coat (코트)\\n5 Sandal (샌들)\\n6 Shirt (셔츠)\\n7 Sneaker (운동화)\\n8 Bag (가방)\\n9 Ankle boot (앵클부츠)\\n'"
      ]
     },
     "execution_count": 2,
     "metadata": {},
     "output_type": "execute_result"
    }
   ],
   "source": [
    "import torch\n",
    "import torch.nn as nn\n",
    "import torch.optim as optim\n",
    "import torchvision.datasets as dataset\n",
    "import torchvision.transforms as transforms\n",
    "import matplotlib.pyplot as plt\n",
    "\n",
    "\"\"\"\n",
    "라벨정보\n",
    "0 T-shirt/top (티셔츠)\n",
    "1 Trouser (바지)\n",
    "2 Pullover (스웨터)\n",
    "3 Dress (드레스)\n",
    "4 Coat (코트)\n",
    "5 Sandal (샌들)\n",
    "6 Shirt (셔츠)\n",
    "7 Sneaker (운동화)\n",
    "8 Bag (가방)\n",
    "9 Ankle boot (앵클부츠)\n",
    "\"\"\""
   ]
  },
  {
   "attachments": {},
   "cell_type": "markdown",
   "metadata": {},
   "source": [
    "데이터셋 다운로드 및 DataLoader 생성"
   ]
  },
  {
   "cell_type": "code",
   "execution_count": 3,
   "metadata": {},
   "outputs": [],
   "source": [
    "# 데이터셋 다운로드 및 DataLoader 생성\n",
    "train_dataset = dataset.FashionMNIST(root=\"./data\", train=True, transform=transforms.ToTensor(), download=True)\n",
    "test_dataset = dataset.FashionMNIST(root=\"./data\", train=False, transform=transforms.ToTensor(), download=True)\n",
    "\n",
    "# train Loader test Loader 설정\n",
    "train_loader = torch.utils.data.DataLoader(dataset=train_dataset, batch_size=100, shuffle=True)\n",
    "test_loader = torch.utils.data.DataLoader(dataset=test_dataset, batch_size=100, shuffle=False)"
   ]
  },
  {
   "attachments": {},
   "cell_type": "markdown",
   "metadata": {},
   "source": [
    "모델 정의"
   ]
  },
  {
   "cell_type": "code",
   "execution_count": 4,
   "metadata": {},
   "outputs": [],
   "source": [
    "class LogisticRegression (nn.Module) :\n",
    "\n",
    "    def __init__(self, input_size, num_classes) :\n",
    "        super(LogisticRegression, self).__init__()\n",
    "        self.linear = nn.Linear(input_size, num_classes)\n",
    "    \n",
    "    def forward(self, x) :\n",
    "        out = self.linear(x)\n",
    "        return out"
   ]
  },
  {
   "attachments": {},
   "cell_type": "markdown",
   "metadata": {},
   "source": [
    "하이퍼 파라미터 설정"
   ]
  },
  {
   "cell_type": "code",
   "execution_count": 5,
   "metadata": {},
   "outputs": [],
   "source": [
    "input_size = 28 * 28\n",
    "num_classes = 10\n",
    "num_epochs = 10\n",
    "lr = 0.001\n",
    "total_step = len(train_loader)"
   ]
  },
  {
   "attachments": {},
   "cell_type": "markdown",
   "metadata": {},
   "source": [
    "Model, Loss, Optimizer 정의"
   ]
  },
  {
   "cell_type": "code",
   "execution_count": 6,
   "metadata": {},
   "outputs": [
    {
     "name": "stdout",
     "output_type": "stream",
     "text": [
      "Using Device >>  cpu\n"
     ]
    },
    {
     "data": {
      "text/plain": [
       "LogisticRegression(\n",
       "  (linear): Linear(in_features=784, out_features=10, bias=True)\n",
       ")"
      ]
     },
     "execution_count": 6,
     "metadata": {},
     "output_type": "execute_result"
    }
   ],
   "source": [
    "model = LogisticRegression(input_size=input_size, num_classes=num_classes)\n",
    "# print (model)\n",
    "criterion = nn.CrossEntropyLoss()\n",
    "optimizer = optim. SGD(model.parameters (), lr=lr, momentum=0.9)\n",
    "\n",
    "# device setting\n",
    "device = torch.device ('cuda' if torch.cuda.is_available () else 'cpu')\n",
    "print ( \"Using Device >> \", device)\n",
    "model.to(device)"
   ]
  },
  {
   "attachments": {},
   "cell_type": "markdown",
   "metadata": {},
   "source": [
    "Train Loop"
   ]
  },
  {
   "cell_type": "code",
   "execution_count": 7,
   "metadata": {},
   "outputs": [
    {
     "name": "stdout",
     "output_type": "stream",
     "text": [
      "Epoch [1/10], Step [100/600], Loss 1.2228, Train ACC : 0.7000\n",
      "Epoch [1/10], Step [200/600], Loss 1.0027, Train ACC : 0.7350\n",
      "Epoch [1/10], Step [300/600], Loss 1.0126, Train ACC : 0.7300\n",
      "Epoch [1/10], Step [400/600], Loss 0.8868, Train ACC : 0.7275\n",
      "Epoch [1/10], Step [500/600], Loss 0.7615, Train ACC : 0.7280\n",
      "Epoch [1/10], Step [600/600], Loss 0.6980, Train ACC : 0.7383\n",
      "Epoch [2/10], Step [100/600], Loss 0.7819, Train ACC : 0.7400\n",
      "Epoch [2/10], Step [200/600], Loss 0.7788, Train ACC : 0.7300\n",
      "Epoch [2/10], Step [300/600], Loss 0.6894, Train ACC : 0.7500\n",
      "Epoch [2/10], Step [400/600], Loss 0.6143, Train ACC : 0.7700\n",
      "Epoch [2/10], Step [500/600], Loss 0.7409, Train ACC : 0.7600\n",
      "Epoch [2/10], Step [600/600], Loss 0.7030, Train ACC : 0.7600\n",
      "Epoch [3/10], Step [100/600], Loss 0.6973, Train ACC : 0.7300\n",
      "Epoch [3/10], Step [200/600], Loss 0.7003, Train ACC : 0.7750\n",
      "Epoch [3/10], Step [300/600], Loss 0.6728, Train ACC : 0.7633\n",
      "Epoch [3/10], Step [400/600], Loss 0.5761, Train ACC : 0.7775\n",
      "Epoch [3/10], Step [500/600], Loss 0.5452, Train ACC : 0.7920\n",
      "Epoch [3/10], Step [600/600], Loss 0.6184, Train ACC : 0.7983\n",
      "Epoch [4/10], Step [100/600], Loss 0.6037, Train ACC : 0.8500\n",
      "Epoch [4/10], Step [200/600], Loss 0.5574, Train ACC : 0.8400\n",
      "Epoch [4/10], Step [300/600], Loss 0.5701, Train ACC : 0.8367\n",
      "Epoch [4/10], Step [400/600], Loss 0.4982, Train ACC : 0.8450\n",
      "Epoch [4/10], Step [500/600], Loss 0.5596, Train ACC : 0.8440\n",
      "Epoch [4/10], Step [600/600], Loss 0.5302, Train ACC : 0.8467\n",
      "Epoch [5/10], Step [100/600], Loss 0.4728, Train ACC : 0.8400\n",
      "Epoch [5/10], Step [200/600], Loss 0.4847, Train ACC : 0.8450\n",
      "Epoch [5/10], Step [300/600], Loss 0.6449, Train ACC : 0.8233\n",
      "Epoch [5/10], Step [400/600], Loss 0.5611, Train ACC : 0.8200\n",
      "Epoch [5/10], Step [500/600], Loss 0.5914, Train ACC : 0.8100\n",
      "Epoch [5/10], Step [600/600], Loss 0.7337, Train ACC : 0.8067\n",
      "Epoch [6/10], Step [100/600], Loss 0.5037, Train ACC : 0.8100\n",
      "Epoch [6/10], Step [200/600], Loss 0.7454, Train ACC : 0.7600\n",
      "Epoch [6/10], Step [300/600], Loss 0.7124, Train ACC : 0.7633\n",
      "Epoch [6/10], Step [400/600], Loss 0.5688, Train ACC : 0.7725\n",
      "Epoch [6/10], Step [500/600], Loss 0.5660, Train ACC : 0.7780\n",
      "Epoch [6/10], Step [600/600], Loss 0.5195, Train ACC : 0.7900\n",
      "Epoch [7/10], Step [100/600], Loss 0.4259, Train ACC : 0.8400\n",
      "Epoch [7/10], Step [200/600], Loss 0.4073, Train ACC : 0.8500\n",
      "Epoch [7/10], Step [300/600], Loss 0.5237, Train ACC : 0.8467\n",
      "Epoch [7/10], Step [400/600], Loss 0.4611, Train ACC : 0.8475\n",
      "Epoch [7/10], Step [500/600], Loss 0.5866, Train ACC : 0.8380\n",
      "Epoch [7/10], Step [600/600], Loss 0.5858, Train ACC : 0.8350\n",
      "Epoch [8/10], Step [100/600], Loss 0.5268, Train ACC : 0.8000\n",
      "Epoch [8/10], Step [200/600], Loss 0.5715, Train ACC : 0.8300\n",
      "Epoch [8/10], Step [300/600], Loss 0.5083, Train ACC : 0.8300\n",
      "Epoch [8/10], Step [400/600], Loss 0.4765, Train ACC : 0.8300\n",
      "Epoch [8/10], Step [500/600], Loss 0.5492, Train ACC : 0.8260\n",
      "Epoch [8/10], Step [600/600], Loss 0.4979, Train ACC : 0.8250\n",
      "Epoch [9/10], Step [100/600], Loss 0.6047, Train ACC : 0.7700\n",
      "Epoch [9/10], Step [200/600], Loss 0.7257, Train ACC : 0.7500\n",
      "Epoch [9/10], Step [300/600], Loss 0.5633, Train ACC : 0.7600\n",
      "Epoch [9/10], Step [400/600], Loss 0.5288, Train ACC : 0.7850\n",
      "Epoch [9/10], Step [500/600], Loss 0.3788, Train ACC : 0.8000\n",
      "Epoch [9/10], Step [600/600], Loss 0.5254, Train ACC : 0.8117\n",
      "Epoch [10/10], Step [100/600], Loss 0.5035, Train ACC : 0.8200\n",
      "Epoch [10/10], Step [200/600], Loss 0.3751, Train ACC : 0.8650\n",
      "Epoch [10/10], Step [300/600], Loss 0.5068, Train ACC : 0.8633\n",
      "Epoch [10/10], Step [400/600], Loss 0.5981, Train ACC : 0.8525\n",
      "Epoch [10/10], Step [500/600], Loss 0.6250, Train ACC : 0.8340\n",
      "Epoch [10/10], Step [600/600], Loss 0.5538, Train ACC : 0.8383\n"
     ]
    },
    {
     "data": {
      "image/png": "[encoded data removed]",
      "text/plain": [
       "<Figure size 640x480 with 1 Axes>"
      ]
     },
     "metadata": {},
     "output_type": "display_data"
    }
   ],
   "source": [
    "loss_list = []\n",
    "acc_list = []\n",
    "\n",
    "for epoch in range(num_epochs):\n",
    "    correct = 0\n",
    "    total = 0\n",
    "    for i, (images, labels) in enumerate(train_loader):\n",
    "        \n",
    "        # 데이터 로드\n",
    "        images = images.reshape(-1, input_size).to(device)\n",
    "        labels = labels.to(device)\n",
    "        \n",
    "        optimizer.zero_grad()   # 초기화\n",
    "\n",
    "        # 순전파 및 Loss 계산\n",
    "        outputs = model(images)\n",
    "        loss = criterion(outputs, labels)\n",
    "        \n",
    "        # 역전파 및 가중치 업데이트\n",
    "        loss.backward()\n",
    "        optimizer.step()    # 갱신\n",
    "        \n",
    "        # 로그 출력\n",
    "        if (i+1) % 100 == 0 :\n",
    "            loss_list.append(loss.item())\n",
    "            _,predicted = torch.max(outputs.data, 1)\n",
    "            total += labels.size(0)\n",
    "            correct += (predicted == labels).sum().item()\n",
    "            acc_list.append(correct / total)\n",
    "            \n",
    "            print('Epoch [{}/{}], Step [{}/{}], Loss {:.4f}, Train ACC : {:.4f}'.format(\n",
    "                epoch+1, num_epochs, i+1, total_step, loss.item(), acc_list[-1]))\n",
    "            \n",
    "# 손실 및 정확도 그래프 출력\n",
    "plt.plot(loss_list, label='Train loss')\n",
    "plt.plot(acc_list, label='Train acc')\n",
    "plt.xlabel('Itertions')\n",
    "plt.ylabel('Loss/ACC')\n",
    "plt.legend()\n",
    "plt.show()"
   ]
  },
  {
   "attachments": {},
   "cell_type": "markdown",
   "metadata": {},
   "source": [
    "테스트 시각화"
   ]
  },
  {
   "cell_type": "code",
   "execution_count": 8,
   "metadata": {},
   "outputs": [
    {
     "ename": "RuntimeError",
     "evalue": "mat1 and mat2 shapes cannot be multiplied (2800x28 and 784x10)",
     "output_type": "error",
     "traceback": [
      "\u001b[0;31m---------------------------------------------------------------------------\u001b[0m",
      "\u001b[0;31mRuntimeError\u001b[0m                              Traceback (most recent call last)",
      "Cell \u001b[0;32mIn[8], line 14\u001b[0m\n\u001b[1;32m     10\u001b[0m \u001b[39m# print(images_temp)\u001b[39;00m\n\u001b[1;32m     11\u001b[0m \n\u001b[1;32m     12\u001b[0m \u001b[39m# 모델 예측\u001b[39;00m\n\u001b[1;32m     13\u001b[0m model\u001b[39m.\u001b[39meval()\n\u001b[0;32m---> 14\u001b[0m outputs_temp \u001b[39m=\u001b[39m model(images_temp)\n\u001b[1;32m     15\u001b[0m _,predicted_test \u001b[39m=\u001b[39m torch\u001b[39m.\u001b[39mmax(outputs_temp\u001b[39m.\u001b[39mdata,\u001b[39m1\u001b[39m)\n\u001b[1;32m     16\u001b[0m \u001b[39m# print(predicted_test)\u001b[39;00m\n\u001b[1;32m     17\u001b[0m \n\u001b[1;32m     18\u001b[0m \u001b[39m# 이미지와 예측값 시각화\u001b[39;00m\n",
      "File \u001b[0;32m~/anaconda3/lib/python3.10/site-packages/torch/nn/modules/module.py:1501\u001b[0m, in \u001b[0;36mModule._call_impl\u001b[0;34m(self, *args, **kwargs)\u001b[0m\n\u001b[1;32m   1496\u001b[0m \u001b[39m# If we don't have any hooks, we want to skip the rest of the logic in\u001b[39;00m\n\u001b[1;32m   1497\u001b[0m \u001b[39m# this function, and just call forward.\u001b[39;00m\n\u001b[1;32m   1498\u001b[0m \u001b[39mif\u001b[39;00m \u001b[39mnot\u001b[39;00m (\u001b[39mself\u001b[39m\u001b[39m.\u001b[39m_backward_hooks \u001b[39mor\u001b[39;00m \u001b[39mself\u001b[39m\u001b[39m.\u001b[39m_backward_pre_hooks \u001b[39mor\u001b[39;00m \u001b[39mself\u001b[39m\u001b[39m.\u001b[39m_forward_hooks \u001b[39mor\u001b[39;00m \u001b[39mself\u001b[39m\u001b[39m.\u001b[39m_forward_pre_hooks\n\u001b[1;32m   1499\u001b[0m         \u001b[39mor\u001b[39;00m _global_backward_pre_hooks \u001b[39mor\u001b[39;00m _global_backward_hooks\n\u001b[1;32m   1500\u001b[0m         \u001b[39mor\u001b[39;00m _global_forward_hooks \u001b[39mor\u001b[39;00m _global_forward_pre_hooks):\n\u001b[0;32m-> 1501\u001b[0m     \u001b[39mreturn\u001b[39;00m forward_call(\u001b[39m*\u001b[39;49margs, \u001b[39m*\u001b[39;49m\u001b[39m*\u001b[39;49mkwargs)\n\u001b[1;32m   1502\u001b[0m \u001b[39m# Do not call functions when jit is used\u001b[39;00m\n\u001b[1;32m   1503\u001b[0m full_backward_hooks, non_full_backward_hooks \u001b[39m=\u001b[39m [], []\n",
      "Cell \u001b[0;32mIn[4], line 8\u001b[0m, in \u001b[0;36mLogisticRegression.forward\u001b[0;34m(self, x)\u001b[0m\n\u001b[1;32m      7\u001b[0m \u001b[39mdef\u001b[39;00m \u001b[39mforward\u001b[39m(\u001b[39mself\u001b[39m, x) :\n\u001b[0;32m----> 8\u001b[0m     out \u001b[39m=\u001b[39m \u001b[39mself\u001b[39;49m\u001b[39m.\u001b[39;49mlinear(x)\n\u001b[1;32m      9\u001b[0m     \u001b[39mreturn\u001b[39;00m out\n",
      "File \u001b[0;32m~/anaconda3/lib/python3.10/site-packages/torch/nn/modules/module.py:1501\u001b[0m, in \u001b[0;36mModule._call_impl\u001b[0;34m(self, *args, **kwargs)\u001b[0m\n\u001b[1;32m   1496\u001b[0m \u001b[39m# If we don't have any hooks, we want to skip the rest of the logic in\u001b[39;00m\n\u001b[1;32m   1497\u001b[0m \u001b[39m# this function, and just call forward.\u001b[39;00m\n\u001b[1;32m   1498\u001b[0m \u001b[39mif\u001b[39;00m \u001b[39mnot\u001b[39;00m (\u001b[39mself\u001b[39m\u001b[39m.\u001b[39m_backward_hooks \u001b[39mor\u001b[39;00m \u001b[39mself\u001b[39m\u001b[39m.\u001b[39m_backward_pre_hooks \u001b[39mor\u001b[39;00m \u001b[39mself\u001b[39m\u001b[39m.\u001b[39m_forward_hooks \u001b[39mor\u001b[39;00m \u001b[39mself\u001b[39m\u001b[39m.\u001b[39m_forward_pre_hooks\n\u001b[1;32m   1499\u001b[0m         \u001b[39mor\u001b[39;00m _global_backward_pre_hooks \u001b[39mor\u001b[39;00m _global_backward_hooks\n\u001b[1;32m   1500\u001b[0m         \u001b[39mor\u001b[39;00m _global_forward_hooks \u001b[39mor\u001b[39;00m _global_forward_pre_hooks):\n\u001b[0;32m-> 1501\u001b[0m     \u001b[39mreturn\u001b[39;00m forward_call(\u001b[39m*\u001b[39;49margs, \u001b[39m*\u001b[39;49m\u001b[39m*\u001b[39;49mkwargs)\n\u001b[1;32m   1502\u001b[0m \u001b[39m# Do not call functions when jit is used\u001b[39;00m\n\u001b[1;32m   1503\u001b[0m full_backward_hooks, non_full_backward_hooks \u001b[39m=\u001b[39m [], []\n",
      "File \u001b[0;32m~/anaconda3/lib/python3.10/site-packages/torch/nn/modules/linear.py:114\u001b[0m, in \u001b[0;36mLinear.forward\u001b[0;34m(self, input)\u001b[0m\n\u001b[1;32m    113\u001b[0m \u001b[39mdef\u001b[39;00m \u001b[39mforward\u001b[39m(\u001b[39mself\u001b[39m, \u001b[39minput\u001b[39m: Tensor) \u001b[39m-\u001b[39m\u001b[39m>\u001b[39m Tensor:\n\u001b[0;32m--> 114\u001b[0m     \u001b[39mreturn\u001b[39;00m F\u001b[39m.\u001b[39;49mlinear(\u001b[39minput\u001b[39;49m, \u001b[39mself\u001b[39;49m\u001b[39m.\u001b[39;49mweight, \u001b[39mself\u001b[39;49m\u001b[39m.\u001b[39;49mbias)\n",
      "\u001b[0;31mRuntimeError\u001b[0m: mat1 and mat2 shapes cannot be multiplied (2800x28 and 784x10)"
     ]
    }
   ],
   "source": [
    "import numpy as np\n",
    "\n",
    "# test_loader = torch.utils.data.DataLoader(dataset=test_dataset, batch_size = 100, shuffle=False)\n",
    "# batch_size 만큼 이미지가 넘어옴 16 이상으로 설정\n",
    "\n",
    "# 테스트 이미지 가져오기\n",
    "dataiter = iter(test_loader)\n",
    "images,labels = dataiter.__next__()\n",
    "images_temp = images.reshape(-1,28,28)\n",
    "# print(images_temp)\n",
    "\n",
    "# 모델 예측\n",
    "model.eval()\n",
    "outputs_temp = model(images_temp)\n",
    "_,predicted_test = torch.max(outputs_temp.data,1)\n",
    "# print(predicted_test)\n",
    "\n",
    "# 이미지와 예측값 시각화\n",
    "fig,axes = plt.subplots(nrows=4, ncols=4, figszie=(8,8), subplot_kw={'xticks' : [], 'yticks':[]})\n",
    "for i, ax in  enumerate(axes.flat):\n",
    "    ax.imshow(np.squeeze(images[i].reshape(28,28)), cmap='gray')\n",
    "    ax.set_title(f'predicted : {predicted_test[i].item()}')\n",
    "\n",
    "plt.tight_layout()\n",
    "plt.show()"
   ]
  }
 ],
 "metadata": {
  "kernelspec": {
   "display_name": "base",
   "language": "python",
   "name": "python3"
  },
  "language_info": {
   "codemirror_mode": {
    "name": "ipython",
    "version": 3
   },
   "file_extension": ".py",
   "mimetype": "text/x-python",
   "name": "python",
   "nbconvert_exporter": "python",
   "pygments_lexer": "ipython3",
   "version": "3.10.9"
  },
  "orig_nbformat": 4
 },
 "nbformat": 4,
 "nbformat_minor": 2
}
