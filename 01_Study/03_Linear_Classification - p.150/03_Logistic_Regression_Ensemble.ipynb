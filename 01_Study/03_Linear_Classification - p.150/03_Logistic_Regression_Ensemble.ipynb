{
 "cells": [
  {
   "attachments": {},
   "cell_type": "markdown",
   "metadata": {},
   "source": [
    "로지스틱 회귀 앙상블 실습"
   ]
  },
  {
   "cell_type": "code",
   "execution_count": null,
   "metadata": {},
   "outputs": [],
   "source": [
    "import torch\n",
    "import torch.nn as nn\n",
    "import torch.optim as optim\n",
    "\n",
    "from torch.utils.data import DataLoader\n",
    "from torchvision.datasets import FashionMNIST\n",
    "from torchvision.transforms import ToTensor\n",
    "from sklearn.model_selection import train_test_split\n",
    "from sklearn.metrics import accuracy_score"
   ]
  },
  {
   "attachments": {},
   "cell_type": "markdown",
   "metadata": {},
   "source": [
    "데이터셋, 데이터 로더 생성"
   ]
  },
  {
   "cell_type": "code",
   "execution_count": null,
   "metadata": {},
   "outputs": [],
   "source": [
    "dataset = FashionMNIST(root='./data', train=True, transform=ToTensor(), download=False)\n",
    "train_set, val_set = train_test_split(dataset, test_size=0.1, shuffle=777)\n",
    "\n",
    "train_loader = DataLoader(train_set, batch_size=100, shuffle=True)\n",
    "test_loader = DataLoader(val_set, batch_size=100, shuffle=False)"
   ]
  },
  {
   "attachments": {},
   "cell_type": "markdown",
   "metadata": {},
   "source": [
    "모델 선언"
   ]
  },
  {
   "cell_type": "code",
   "execution_count": null,
   "metadata": {},
   "outputs": [],
   "source": [
    "class LogisitcRegression(nn.Module):\n",
    "    def __init__(self, input_size, num_classes):\n",
    "        super(LogisitcRegression, self).__init__()\n",
    "        self.linear = nn.Linear(input_size,num_classes)\n",
    "        \n",
    "    def forward(self,x):\n",
    "        out = self.linear(x)\n",
    "        return out"
   ]
  },
  {
   "attachments": {},
   "cell_type": "markdown",
   "metadata": {},
   "source": [
    "하이퍼 파라미터 설정"
   ]
  },
  {
   "cell_type": "code",
   "execution_count": null,
   "metadata": {},
   "outputs": [],
   "source": [
    "input_size = 28*28\n",
    "num_classes = 10\n",
    "num_epochs = 100\n",
    "lr = 0.001\n",
    "num_models = 5  # 앙상블에 사용할 모델 개수"
   ]
  },
  {
   "attachments": {},
   "cell_type": "markdown",
   "metadata": {},
   "source": [
    "앙상블"
   ]
  },
  {
   "cell_type": "code",
   "execution_count": null,
   "metadata": {},
   "outputs": [],
   "source": [
    "models = [LogisitcRegression(input_size, num_classes) for _ in range(num_models)]\n",
    "print(models)"
   ]
  },
  {
   "attachments": {},
   "cell_type": "markdown",
   "metadata": {},
   "source": [
    "모델, 손실 함수, 옵티마이저 정의"
   ]
  },
  {
   "cell_type": "code",
   "execution_count": null,
   "metadata": {},
   "outputs": [],
   "source": [
    "criterion = nn.CrossEntropyLoss()\n",
    "optimizers = [optim.SGD(model.parameters(), lr=lr) for model in models]\n",
    "print(models)"
   ]
  },
  {
   "attachments": {},
   "cell_type": "markdown",
   "metadata": {},
   "source": [
    "train loop"
   ]
  },
  {
   "cell_type": "code",
   "execution_count": null,
   "metadata": {},
   "outputs": [],
   "source": [
    "for epoch in range(num_epochs):\n",
    "    for i, (images, labels) in enumerate(train_loader):\n",
    "        # 데이터 로드\n",
    "        images = images.reshape(-1,input_size)\n",
    "        labels = labels\n",
    "        # print(images,labels)\n",
    "        \n",
    "        # 순전파 및 손실 계산\n",
    "        for j in range(num_models) :\n",
    "            outputs = models[j](images)\n",
    "            loss = criterion(outputs, labels)\n",
    "            \n",
    "            # 역전파 및 가중치 업데이트\n",
    "            optimizers[j].zero_grad()\n",
    "            loss.backward()\n",
    "            optimizers[j].step()\n",
    "            \n",
    "        # 검증 코드 추가 #\n",
    "        with torch.no_grad():\n",
    "            total, correct = 0,0\n",
    "            for images, labels in test_loader :\n",
    "                images = images.reshape(-1,input_size)\n",
    "                outputs = torch.zeros(images.size()[0], num_classes) # 초기화를 통해 업데이트\n",
    "            \"\"\"\n",
    "            outputs = torch.zeros(images.size()[0], num_classes)\n",
    "            이미지 배치에 대한 출력 텐서 초기화 \n",
    "            >> 후속 단계에서 이미지에 대한 예측값 업데이트 가능\n",
    "            \"\"\"\n",
    "            \n",
    "                # 앙상블 모델의 예측값  더하기\n",
    "            for j in range(num_models):\n",
    "                outputs += models[j](images)\n",
    "                \n",
    "            _, predicted = torch.max(outputs.data, 1)\n",
    "            total += labels.size(0)\n",
    "            correct += (predicted == labels).sum().item()\n",
    "            \n",
    "            val_acc = 100 * correct / total\n",
    "            print(f\"Epoch [{epoch+1}/{num_epochs}], Val ACC >> {val_acc:.2f}%\")"
   ]
  }
 ],
 "metadata": {
  "kernelspec": {
   "display_name": "base",
   "language": "python",
   "name": "python3"
  },
  "language_info": {
   "codemirror_mode": {
    "name": "ipython",
    "version": 3
   },
   "file_extension": ".py",
   "mimetype": "text/x-python",
   "name": "python",
   "nbconvert_exporter": "python",
   "pygments_lexer": "ipython3",
   "version": "3.10.9"
  },
  "orig_nbformat": 4
 },
 "nbformat": 4,
 "nbformat_minor": 2
}
