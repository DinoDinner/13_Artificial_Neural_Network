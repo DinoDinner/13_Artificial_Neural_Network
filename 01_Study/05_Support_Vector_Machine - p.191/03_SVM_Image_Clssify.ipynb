{
 "cells": [
  {
   "attachments": {},
   "cell_type": "markdown",
   "metadata": {},
   "source": [
    "SVM을 활용한 이미지 분류"
   ]
  },
  {
   "cell_type": "code",
   "execution_count": 2,
   "metadata": {},
   "outputs": [],
   "source": [
    "import torch\n",
    "import torchvision\n",
    "import torchvision.transforms as transforms\n",
    "from sklearn.svm import SVC\n",
    "from tqdm import tqdm"
   ]
  },
  {
   "attachments": {},
   "cell_type": "markdown",
   "metadata": {},
   "source": [
    "데이터 로드"
   ]
  },
  {
   "cell_type": "code",
   "execution_count": 4,
   "metadata": {},
   "outputs": [],
   "source": [
    "transform = transforms.Compose([\n",
    "    transforms.ToTensor(),\n",
    "    transforms.Normalize((0.5,), (0.3,))\n",
    "])\n",
    "\n",
    "train_dataset = torchvision.datasets.MNIST(root=\"./dataset\", train=True, download=False, transform=transform)\n",
    "test_dataset = torchvision.datasets.MNIST(root=\"./dataset\" , train=False, download=False, transform=transform)\n",
    "\n",
    "train_loader = torch.utils.data.DataLoader(train_dataset, batch_size=1000, shuffle=True, num_workers=2)\n",
    "test_loader = torch.utils.data.DataLoader(test_dataset, batch_size=1000, shuffle=False, num_workers=2)"
   ]
  },
  {
   "attachments": {},
   "cell_type": "markdown",
   "metadata": {},
   "source": [
    "특징 추출"
   ]
  },
  {
   "cell_type": "code",
   "execution_count": 8,
   "metadata": {},
   "outputs": [
    {
     "name": "stdout",
     "output_type": "stream",
     "text": [
      "tensor([[-1.6667, -1.6667, -1.6667,  ..., -1.6667, -1.6667, -1.6667],\n",
      "        [-1.6667, -1.6667, -1.6667,  ..., -1.6667, -1.6667, -1.6667],\n",
      "        [-1.6667, -1.6667, -1.6667,  ..., -1.6667, -1.6667, -1.6667],\n",
      "        ...,\n",
      "        [-1.6667, -1.6667, -1.6667,  ..., -1.6667, -1.6667, -1.6667],\n",
      "        [-1.6667, -1.6667, -1.6667,  ..., -1.6667, -1.6667, -1.6667],\n",
      "        [-1.6667, -1.6667, -1.6667,  ..., -1.6667, -1.6667, -1.6667]]) tensor([4, 6, 5,  ..., 2, 0, 6])\n",
      "tensor([[-1.6667, -1.6667, -1.6667,  ..., -1.6667, -1.6667, -1.6667],\n",
      "        [-1.6667, -1.6667, -1.6667,  ..., -1.6667, -1.6667, -1.6667],\n",
      "        [-1.6667, -1.6667, -1.6667,  ..., -1.6667, -1.6667, -1.6667],\n",
      "        ...,\n",
      "        [-1.6667, -1.6667, -1.6667,  ..., -1.6667, -1.6667, -1.6667],\n",
      "        [-1.6667, -1.6667, -1.6667,  ..., -1.6667, -1.6667, -1.6667],\n",
      "        [-1.6667, -1.6667, -1.6667,  ..., -1.6667, -1.6667, -1.6667]]) tensor([7, 2, 1,  ..., 4, 5, 6])\n"
     ]
    }
   ],
   "source": [
    "train_features = []\n",
    "train_labels = []\n",
    "\n",
    "for i, data in enumerate(train_loader, 0) : \n",
    "    inputs, labels = data \n",
    "    inputs = inputs.view(inputs.shape[0], -1)\n",
    "    train_features.append(inputs)\n",
    "    train_labels.append(labels)\n",
    "\"\"\"\n",
    "train_loader 미니배치 데이터 -> 2차원으로 펼친 후 -> train_feature, train_labels 각 리스트에 저장 -> 최종 텐서 변환 (훈련 데이터 사용가능)\n",
    "\"\"\"    \n",
    "train_features = torch.cat(train_features, dim=0)\n",
    "train_labels = torch.cat(train_labels, dim=0)\n",
    "\n",
    "test_features = []\n",
    "test_labels = []\n",
    "for i, data in enumerate(test_loader, 0) : \n",
    "    inputs, labels = data\n",
    "    inputs = inputs.view(inputs.shape[0], -1)\n",
    "    test_features.append(inputs)\n",
    "    test_labels.append(labels)\n",
    "    \n",
    "test_features = torch.cat(test_features, dim=0)\n",
    "test_labels = torch.cat(test_labels, dim=0)"
   ]
  },
  {
   "attachments": {},
   "cell_type": "markdown",
   "metadata": {},
   "source": [
    "SVM을 활용한 이미지 분류"
   ]
  },
  {
   "cell_type": "code",
   "execution_count": 9,
   "metadata": {},
   "outputs": [
    {
     "name": "stdout",
     "output_type": "stream",
     "text": [
      "SVM MODEL TRAIN AND TEST\n",
      "ACC >>  0.9337\n",
      "Train Time : 5123.38 seconds\n"
     ]
    }
   ],
   "source": [
    "import time \n",
    "print(\"SVM MODEL TRAIN AND TEST\")\n",
    "start_time = time.time()\n",
    "model = SVC(C=1.0, kernel='rbf', gamma=0.01)\n",
    "model.fit(train_features.numpy(), train_labels.numpy())\n",
    "acc = model.score(test_features.numpy(), test_labels.numpy())\n",
    "\n",
    "end_tiem = time.time()\n",
    "print(\"ACC >>\" , acc)\n",
    "train_tiem = end_tiem - start_time\n",
    "print(\"Training Time : {:.2f} seconds\".format(train_tiem))\n"
   ]
  },
  {
   "cell_type": "code",
   "execution_count": 10,
   "metadata": {},
   "outputs": [
    {
     "ename": "NameError",
     "evalue": "name 'testloader' is not defined",
     "output_type": "error",
     "traceback": [
      "\u001b[0;31m---------------------------------------------------------------------------\u001b[0m",
      "\u001b[0;31mNameError\u001b[0m                                 Traceback (most recent call last)",
      "Cell \u001b[0;32mIn[10], line 16\u001b[0m\n\u001b[1;32m     13\u001b[0m     plt\u001b[39m.\u001b[39mshow()\n\u001b[1;32m     15\u001b[0m \u001b[39m# 테스트 이미지 가져오기\u001b[39;00m\n\u001b[0;32m---> 16\u001b[0m test_images, test_labels \u001b[39m=\u001b[39m \u001b[39mnext\u001b[39m(\u001b[39miter\u001b[39m(testloader))\n\u001b[1;32m     17\u001b[0m test_images \u001b[39m=\u001b[39m test_images\u001b[39m.\u001b[39mview(test_images\u001b[39m.\u001b[39mshape[\u001b[39m0\u001b[39m], \u001b[39m-\u001b[39m\u001b[39m1\u001b[39m)\n\u001b[1;32m     18\u001b[0m \u001b[39m# 모델 예측\u001b[39;00m\n",
      "\u001b[0;31mNameError\u001b[0m: name 'testloader' is not defined"
     ]
    }
   ],
   "source": [
    "# 예측 결과 시각화\n",
    "def plot_images(images, labels, preds):\n",
    "    fig, axes = plt.subplots(1, 10, figsize=(10, 1))\n",
    "    \n",
    "    for i, ax in enumerate(axes):\n",
    "        ax.imshow(images[i].reshape((28, 28)), cmap='gray')\n",
    "        title = 'label: {}\\npred: {}'.format(labels[i], preds[i])\n",
    "        ax.set_title(title)\n",
    "        ax.axis('off')\n",
    "    plt.subplots_adjust(top=0.5, bottom=0, hspace=0, wspace=0.5)\n",
    "    plt.show()\n",
    "\n",
    "# 테스트 이미지 가져오기\n",
    "test_images, test_labels = next(iter(testloader))\n",
    "test_images = test_images.view(test_images.shape[0], -1)\n",
    "\n",
    "# 모델 예측\n",
    "test_preds = model.predict(test_images.numpy())\n",
    "\n",
    "# 결과 시각화\n",
    "plot_images(test_images.numpy(), test_labels.numpy(), test_preds)"
   ]
  }
 ],
 "metadata": {
  "kernelspec": {
   "display_name": "base",
   "language": "python",
   "name": "python3"
  },
  "language_info": {
   "codemirror_mode": {
    "name": "ipython",
    "version": 3
   },
   "file_extension": ".py",
   "mimetype": "text/x-python",
   "name": "python",
   "nbconvert_exporter": "python",
   "pygments_lexer": "ipython3",
   "version": "3.10.9"
  },
  "orig_nbformat": 4
 },
 "nbformat": 4,
 "nbformat_minor": 2
}
