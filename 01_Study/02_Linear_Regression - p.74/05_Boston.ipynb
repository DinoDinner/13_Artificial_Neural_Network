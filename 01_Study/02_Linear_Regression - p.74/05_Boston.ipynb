{
 "cells": [
  {
   "cell_type": "code",
   "execution_count": 1,
   "metadata": {},
   "outputs": [],
   "source": [
    "import torch\n",
    "import torch.nn as nn\n",
    "import torch.optim as optim\n",
    "\n",
    "import pandas as pd\n",
    "import matplotlib.pyplot as plt\n",
    "from sklearn.datasets import load_boston\n",
    "from sklearn.preprocessing import StandardScaler\n",
    "from sklearn.model_selection import train_test_split"
   ]
  },
  {
   "attachments": {},
   "cell_type": "markdown",
   "metadata": {},
   "source": [
    "Boston data loader"
   ]
  },
  {
   "cell_type": "code",
   "execution_count": 2,
   "metadata": {},
   "outputs": [
    {
     "name": "stdout",
     "output_type": "stream",
     "text": [
      "x_train >>  455\n",
      "y_train >>  455\n",
      "x_test >>  51\n",
      "y_test >>  51\n"
     ]
    },
    {
     "name": "stderr",
     "output_type": "stream",
     "text": [
      "/Users/park.s.w/anaconda3/lib/python3.10/site-packages/sklearn/utils/deprecation.py:87: FutureWarning: Function load_boston is deprecated; `load_boston` is deprecated in 1.0 and will be removed in 1.2.\n",
      "\n",
      "    The Boston housing prices dataset has an ethical problem. You can refer to\n",
      "    the documentation of this function for further details.\n",
      "\n",
      "    The scikit-learn maintainers therefore strongly discourage the use of this\n",
      "    dataset unless the purpose of the code is to study and educate about\n",
      "    ethical issues in data science and machine learning.\n",
      "\n",
      "    In this special case, you can fetch the dataset from the original\n",
      "    source::\n",
      "\n",
      "        import pandas as pd\n",
      "        import numpy as np\n",
      "\n",
      "        data_url = \"http://lib.stat.cmu.edu/datasets/boston\"\n",
      "        raw_df = pd.read_csv(data_url, sep=\"\\s+\", skiprows=22, header=None)\n",
      "        data = np.hstack([raw_df.values[::2, :], raw_df.values[1::2, :2]])\n",
      "        target = raw_df.values[1::2, 2]\n",
      "\n",
      "    Alternative datasets include the California housing dataset (i.e.\n",
      "    :func:`~sklearn.datasets.fetch_california_housing`) and the Ames housing\n",
      "    dataset. You can load the datasets as follows::\n",
      "\n",
      "        from sklearn.datasets import fetch_california_housing\n",
      "        housing = fetch_california_housing()\n",
      "\n",
      "    for the California housing dataset and::\n",
      "\n",
      "        from sklearn.datasets import fetch_openml\n",
      "        housing = fetch_openml(name=\"house_prices\", as_frame=True)\n",
      "\n",
      "    for the Ames housing dataset.\n",
      "  warnings.warn(msg, category=FutureWarning)\n"
     ]
    }
   ],
   "source": [
    "boston_dataset = load_boston()\n",
    "x_data = boston_dataset.data  # 학습 데이터\n",
    "y_data = boston_dataset.target  # 라벨 데이터\n",
    "\n",
    "# 데이터 스케일\n",
    "scaler = StandardScaler()\n",
    "x_data = scaler.fit_transform(x_data)\n",
    "\n",
    "# 데이터 분할\n",
    "x_train, x_test, y_train, y_test = train_test_split(x_data,y_data, test_size=0.1, random_state=42)\n",
    "print('x_train >> ',len(x_train))\n",
    "print('y_train >> ',len(x_train))\n",
    "print('x_test >> ',len(x_test))\n",
    "print('y_test >> ',len(y_test))\n",
    "\n",
    "# print(x_train) -> tesnor 타입이 아님\n",
    "# 아래에 경우 tensor를 변경학게 됨"
   ]
  },
  {
   "attachments": {},
   "cell_type": "markdown",
   "metadata": {},
   "source": [
    "모델 생성 및 하이퍼파라미터 설정"
   ]
  },
  {
   "cell_type": "code",
   "execution_count": 3,
   "metadata": {},
   "outputs": [],
   "source": [
    "# 하이퍼 파라미터 설정\n",
    "input_dim = x_data.shape[1] # 13\n",
    "output_dim = 1\n",
    "lr = 0.0005\n",
    "epochs =  1000\n",
    "\n",
    "# 모델 생성\n",
    "model = nn.Linear(input_dim, output_dim)"
   ]
  },
  {
   "attachments": {},
   "cell_type": "markdown",
   "metadata": {},
   "source": [
    "다양한 옵티마이저 설정"
   ]
  },
  {
   "cell_type": "code",
   "execution_count": 4,
   "metadata": {},
   "outputs": [],
   "source": [
    "optimizers = {'SGD' : optim.SGD(model.parameters(), lr=lr),\n",
    "            'Momentum' : optim.SGD(model.parameters(), lr=lr, momentum=0.9),\n",
    "            'Adagard' : optim.Adagrad(model.parameters(),lr=lr),\n",
    "            'RMSprop' : optim.RMSprop(model.parameters(),lr=lr),\n",
    "            'Adam' : optim.Adam(model.parameters(), lr=lr)}"
   ]
  },
  {
   "attachments": {},
   "cell_type": "markdown",
   "metadata": {},
   "source": [
    "모델 학습"
   ]
  },
  {
   "cell_type": "code",
   "execution_count": 5,
   "metadata": {},
   "outputs": [
    {
     "name": "stderr",
     "output_type": "stream",
     "text": [
      "/Users/park.s.w/anaconda3/lib/python3.10/site-packages/torch/nn/modules/loss.py:530: UserWarning: Using a target size (torch.Size([455])) that is different to the input size (torch.Size([455, 1])). This will likely lead to incorrect results due to broadcasting. Please ensure they have the same size.\n",
      "  return F.mse_loss(input, target, reduction=self.reduction)\n"
     ]
    },
    {
     "name": "stdout",
     "output_type": "stream",
     "text": [
      "SGD - EPOCH [100/1000, Loss : 589.5122]\n",
      "SGD - EPOCH [200/1000, Loss : 585.0795]\n",
      "SGD - EPOCH [300/1000, Loss : 580.2128]\n",
      "SGD - EPOCH [400/1000, Loss : 577.9988]\n",
      "SGD - EPOCH [500/1000, Loss : 577.7930]\n",
      "SGD - EPOCH [600/1000, Loss : 579.5949]\n",
      "SGD - EPOCH [700/1000, Loss : 580.9567]\n",
      "SGD - EPOCH [800/1000, Loss : 580.7249]\n",
      "SGD - EPOCH [900/1000, Loss : 577.0305]\n",
      "SGD - EPOCH [1000/1000, Loss : 571.7490]\n",
      "Momentum - EPOCH [100/1000, Loss : 12337.5879]\n",
      "Momentum - EPOCH [200/1000, Loss : 1011257792.0000]\n",
      "Momentum - EPOCH [300/1000, Loss : 45624619696128.0000]\n",
      "Momentum - EPOCH [400/1000, Loss : 109981708585009152.0000]\n",
      "Momentum - EPOCH [500/1000, Loss : 427207677628678259343360.0000]\n",
      "Momentum - EPOCH [600/1000, Loss : 222144558378682008318760714240.0000]\n",
      "Momentum - EPOCH [700/1000, Loss : inf]\n",
      "Momentum - EPOCH [800/1000, Loss : inf]\n",
      "Momentum - EPOCH [900/1000, Loss : inf]\n",
      "Momentum - EPOCH [1000/1000, Loss : inf]\n",
      "Adagard - EPOCH [100/1000, Loss : inf]\n",
      "Adagard - EPOCH [200/1000, Loss : inf]\n",
      "Adagard - EPOCH [300/1000, Loss : inf]\n",
      "Adagard - EPOCH [400/1000, Loss : inf]\n",
      "Adagard - EPOCH [500/1000, Loss : inf]\n",
      "Adagard - EPOCH [600/1000, Loss : inf]\n",
      "Adagard - EPOCH [700/1000, Loss : inf]\n",
      "Adagard - EPOCH [800/1000, Loss : inf]\n",
      "Adagard - EPOCH [900/1000, Loss : inf]\n",
      "Adagard - EPOCH [1000/1000, Loss : inf]\n",
      "RMSprop - EPOCH [100/1000, Loss : inf]\n",
      "RMSprop - EPOCH [200/1000, Loss : inf]\n",
      "RMSprop - EPOCH [300/1000, Loss : inf]\n",
      "RMSprop - EPOCH [400/1000, Loss : inf]\n",
      "RMSprop - EPOCH [500/1000, Loss : inf]\n",
      "RMSprop - EPOCH [600/1000, Loss : inf]\n",
      "RMSprop - EPOCH [700/1000, Loss : inf]\n",
      "RMSprop - EPOCH [800/1000, Loss : inf]\n",
      "RMSprop - EPOCH [900/1000, Loss : inf]\n",
      "RMSprop - EPOCH [1000/1000, Loss : inf]\n",
      "Adam - EPOCH [100/1000, Loss : inf]\n",
      "Adam - EPOCH [200/1000, Loss : inf]\n",
      "Adam - EPOCH [300/1000, Loss : inf]\n",
      "Adam - EPOCH [400/1000, Loss : inf]\n",
      "Adam - EPOCH [500/1000, Loss : inf]\n",
      "Adam - EPOCH [600/1000, Loss : inf]\n",
      "Adam - EPOCH [700/1000, Loss : inf]\n",
      "Adam - EPOCH [800/1000, Loss : inf]\n",
      "Adam - EPOCH [900/1000, Loss : inf]\n",
      "Adam - EPOCH [1000/1000, Loss : inf]\n"
     ]
    }
   ],
   "source": [
    "for optimizer_name, optimizer in optimizers.items():\n",
    "    # print(optimizer_name, optimizer)\n",
    "    criterion = nn.MSELoss()\n",
    "    optimizer.zero_grad()\n",
    "    \n",
    "    for epoch in range(epochs):\n",
    "        inputs = torch.tensor(x_train, dtype=torch.float32)\n",
    "        labels = torch.tensor(y_train, dtype=torch.float32)\n",
    "        \n",
    "        # print(inputs, labels) -> tensor 형태로 출력됨\n",
    "        \n",
    "        # Forward pass\n",
    "        outputs = model(inputs)\n",
    "        loss = criterion(outputs, labels)\n",
    "        \n",
    "        # Backward and optimize\n",
    "        loss.backward()\n",
    "        optimizer.step()\n",
    "        \n",
    "        # print progress\n",
    "        \n",
    "        if (epoch + 1) % 100 == 0 :\n",
    "            print(f'{optimizer_name} - EPOCH [{epoch+1}/{epochs}, Loss : {loss.item():.4f}]')"
   ]
  }
 ],
 "metadata": {
  "kernelspec": {
   "display_name": "base",
   "language": "python",
   "name": "python3"
  },
  "language_info": {
   "codemirror_mode": {
    "name": "ipython",
    "version": 3
   },
   "file_extension": ".py",
   "mimetype": "text/x-python",
   "name": "python",
   "nbconvert_exporter": "python",
   "pygments_lexer": "ipython3",
   "version": "3.10.9"
  },
  "orig_nbformat": 4
 },
 "nbformat": 4,
 "nbformat_minor": 2
}
