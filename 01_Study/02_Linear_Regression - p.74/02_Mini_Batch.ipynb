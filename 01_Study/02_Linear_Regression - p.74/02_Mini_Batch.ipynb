{
 "cells": [
  {
   "attachments": {},
   "cell_type": "markdown",
   "metadata": {},
   "source": [
    "인공신경망 - 경사 하강법을 이용한 선형 회귀 모델 구현 실습"
   ]
  },
  {
   "cell_type": "code",
   "execution_count": 12,
   "metadata": {},
   "outputs": [],
   "source": [
    "import numpy as np\n",
    "import matplotlib.pyplot as plt"
   ]
  },
  {
   "attachments": {},
   "cell_type": "markdown",
   "metadata": {},
   "source": [
    "데이터, 타겟 데이터 생성, y=2x+1 관계를 따르는 데이터 생성"
   ]
  },
  {
   "cell_type": "code",
   "execution_count": 13,
   "metadata": {},
   "outputs": [],
   "source": [
    "x = np.array([1,2,3,4,5])\n",
    "y = np.array([3,5,7,9,11])"
   ]
  },
  {
   "attachments": {},
   "cell_type": "markdown",
   "metadata": {},
   "source": [
    "모델 예측값과 실제값 사이의 오차를 계산하는 함수 정의"
   ]
  },
  {
   "cell_type": "code",
   "execution_count": 14,
   "metadata": {},
   "outputs": [],
   "source": [
    "def compute_error(w0,w1,x,y):\n",
    "    y_pred = w0 + w1 + x\n",
    "    error = y - y_pred\n",
    "    \n",
    "    return error\n",
    "\n",
    "    # w0 : 절편값 , w1 : 기울기 값"
   ]
  },
  {
   "attachments": {},
   "cell_type": "markdown",
   "metadata": {},
   "source": [
    "경사 하강법을 수행하는 함수 정의"
   ]
  },
  {
   "cell_type": "code",
   "execution_count": 20,
   "metadata": {},
   "outputs": [],
   "source": [
    "def gradient_decent(x,y,iterations=1000):\n",
    "    n = len(x)\n",
    "    w0,w1 = 0,0\n",
    "    \n",
    "    for i in range(iterations):\n",
    "        error = compute_error(w0,w1,x,y)\n",
    "        w0 -= lr * (-2.0 / n ) * np.sum(error)\n",
    "        w1 -= lr * (-2.0 / n ) * np.sum(error * x)\n",
    "        # -2.0 : 일반적으로 gradient에 곱해지는 상수\n",
    "        \n",
    "    return w1,w0"
   ]
  },
  {
   "attachments": {},
   "cell_type": "markdown",
   "metadata": {},
   "source": [
    "경사 하강법을 이용한 선형 회귀 모델 구현 시각화"
   ]
  },
  {
   "cell_type": "code",
   "execution_count": 21,
   "metadata": {},
   "outputs": [
    {
     "ename": "NameError",
     "evalue": "name 'lr' is not defined",
     "output_type": "error",
     "traceback": [
      "\u001b[0;31m---------------------------------------------------------------------------\u001b[0m",
      "\u001b[0;31mNameError\u001b[0m                                 Traceback (most recent call last)",
      "Cell \u001b[0;32mIn[21], line 1\u001b[0m\n\u001b[0;32m----> 1\u001b[0m w0,w1 \u001b[39m=\u001b[39m gradient_decent(x,y)\n\u001b[1;32m      2\u001b[0m \u001b[39mprint\u001b[39m(w0,w1)\n",
      "Cell \u001b[0;32mIn[20], line 7\u001b[0m, in \u001b[0;36mgradient_decent\u001b[0;34m(x, y, iterations)\u001b[0m\n\u001b[1;32m      5\u001b[0m \u001b[39mfor\u001b[39;00m i \u001b[39min\u001b[39;00m \u001b[39mrange\u001b[39m(iterations):\n\u001b[1;32m      6\u001b[0m     error \u001b[39m=\u001b[39m compute_error(w0,w1,x,y)\n\u001b[0;32m----> 7\u001b[0m     w0 \u001b[39m-\u001b[39m\u001b[39m=\u001b[39m lr \u001b[39m*\u001b[39m (\u001b[39m-\u001b[39m\u001b[39m2.0\u001b[39m \u001b[39m/\u001b[39m n ) \u001b[39m*\u001b[39m np\u001b[39m.\u001b[39msum(error)\n\u001b[1;32m      8\u001b[0m     w1 \u001b[39m-\u001b[39m\u001b[39m=\u001b[39m lr \u001b[39m*\u001b[39m (\u001b[39m-\u001b[39m\u001b[39m2.0\u001b[39m \u001b[39m/\u001b[39m n ) \u001b[39m*\u001b[39m np\u001b[39m.\u001b[39msum(error \u001b[39m*\u001b[39m x)\n\u001b[1;32m      9\u001b[0m     \u001b[39m# -2.0 : 일반적으로 gradient에 곱해지는 상수\u001b[39;00m\n",
      "\u001b[0;31mNameError\u001b[0m: name 'lr' is not defined"
     ]
    }
   ],
   "source": [
    "w0,w1 = gradient_decent(x,y)\n",
    "print(w0,w1)"
   ]
  },
  {
   "cell_type": "code",
   "execution_count": 19,
   "metadata": {},
   "outputs": [
    {
     "data": {
      "image/png": "[encoded data removed]",
      "text/plain": [
       "<Figure size 640x480 with 1 Axes>"
      ]
     },
     "metadata": {},
     "output_type": "display_data"
    }
   ],
   "source": [
    "plt.scatter(x,y)\n",
    "plt.plot(x, w0+w1*x, color='red')\n",
    "plt.show()"
   ]
  }
 ],
 "metadata": {
  "kernelspec": {
   "display_name": "base",
   "language": "python",
   "name": "python3"
  },
  "language_info": {
   "codemirror_mode": {
    "name": "ipython",
    "version": 3
   },
   "file_extension": ".py",
   "mimetype": "text/x-python",
   "name": "python",
   "nbconvert_exporter": "python",
   "pygments_lexer": "ipython3",
   "version": "3.10.9"
  },
  "orig_nbformat": 4
 },
 "nbformat": 4,
 "nbformat_minor": 2
}
