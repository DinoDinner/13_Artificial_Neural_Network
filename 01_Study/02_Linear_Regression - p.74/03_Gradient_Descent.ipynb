{
 "cells": [
  {
   "attachments": {},
   "cell_type": "markdown",
   "metadata": {},
   "source": [
    "다중 선형 - 실습 : 경사 하강법을 이용한 다중 선형 회귀 구현"
   ]
  },
  {
   "cell_type": "code",
   "execution_count": 4,
   "metadata": {},
   "outputs": [],
   "source": [
    "import numpy as np"
   ]
  },
  {
   "attachments": {},
   "cell_type": "markdown",
   "metadata": {},
   "source": [
    "데이터 생성"
   ]
  },
  {
   "cell_type": "code",
   "execution_count": 8,
   "metadata": {},
   "outputs": [],
   "source": [
    "# 다중 변수 (2개)\n",
    "x1 = np.array([1,2,3,4,5])\n",
    "x2 = np.array([0,1,0,1,0])\n",
    "\n",
    "# 정답지 1개\n",
    "y = np.array([3,5,7,9,11])"
   ]
  },
  {
   "cell_type": "code",
   "execution_count": 22,
   "metadata": {},
   "outputs": [],
   "source": [
    "def gradient_decent(x1,x2,y,lr,iterations):\n",
    "    \n",
    "    # 초기값 설정\n",
    "    n = len(y)\n",
    "    beta_0 = 0\n",
    "    beta_1 = 0\n",
    "    beta_2 = 0\n",
    "    \n",
    "    # 경사하강법 수행\n",
    "    for i in range(iterations) :\n",
    "        y_pred = beta_0 + beta_1 * x1 +  beta_2 * x2\n",
    "        error = y_pred - y\n",
    "        \n",
    "        # 업데이트\n",
    "        beta_0 -= lr * (1/n) * np.sum(error)\n",
    "        beta_1 -= lr * (1/n) * np.sum(error * x1)\n",
    "        beta_2 -= lr * (1/n) * np.sum(error * x2)\n",
    "        \n",
    "    return beta_0,beta_1,beta_2"
   ]
  },
  {
   "cell_type": "code",
   "execution_count": 23,
   "metadata": {},
   "outputs": [
    {
     "name": "stdout",
     "output_type": "stream",
     "text": [
      "beta_0 >>  0.8907546215358821\n",
      "beta_1 >>  2.0237699271134932\n",
      "beta_2 >>  0.057888309859129156\n"
     ]
    }
   ],
   "source": [
    "beta_0, beta_1, beta_2 = gradient_decent(x1, x2, y, 0.01, 1000)\n",
    "print('beta_0 >> ',beta_0)\n",
    "print('beta_1 >> ',beta_1)\n",
    "print('beta_2 >> ',beta_2)"
   ]
  },
  {
   "cell_type": "code",
   "execution_count": 24,
   "metadata": {},
   "outputs": [
    {
     "name": "stdout",
     "output_type": "stream",
     "text": [
      "predicted y value >>  2.9145245486493754\n"
     ]
    }
   ],
   "source": [
    "x1_new = 1\n",
    "x2_new = 0\n",
    "\n",
    "y_pred_temp = beta_0 + beta_1 * x1_new  + beta_2 * x2_new\n",
    "\n",
    "print('predicted y value >> ', y_pred_temp)\n",
    "\n",
    "# x1 = 1, x2 =0 -> y =3 에 근사한 예측값이 나옴"
   ]
  }
 ],
 "metadata": {
  "kernelspec": {
   "display_name": "base",
   "language": "python",
   "name": "python3"
  },
  "language_info": {
   "codemirror_mode": {
    "name": "ipython",
    "version": 3
   },
   "file_extension": ".py",
   "mimetype": "text/x-python",
   "name": "python",
   "nbconvert_exporter": "python",
   "pygments_lexer": "ipython3",
   "version": "3.10.9"
  },
  "orig_nbformat": 4
 },
 "nbformat": 4,
 "nbformat_minor": 2
}
